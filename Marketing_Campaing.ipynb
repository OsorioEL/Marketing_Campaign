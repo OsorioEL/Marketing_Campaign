{
 "cells": [
  {
   "cell_type": "markdown",
   "metadata": {},
   "source": [
    "# Marketing Campaign Project\n",
    "\n",
    "### Problem Scenario: ‘Marketing mix’ is a popular concept used in implementing marketing strategies. A marketing mix includes multiple areas of focus as part of a comprehensive marketing plan. This all revolves around the four Ps of marketing - product, price, place, and promotion.\n",
    "\n",
    "### Problem Objective: We'll perform exploratory data analysis and hypothesis testing. The goal is to gain a better understanding of the various factors that contribute to customer acquisition.\n",
    "\n",
    "### We'll test the following hypotheses:\n",
    "\n",
    "- Older people are not as tech-savvy and probably prefer shopping in-store.\n",
    "- Customers with kids probably have less time to visit a store and would prefer to shop online.\n",
    "- Other distribution channels may cannibalize sales at the store.\n",
    "- Does the US fare significantly better than the rest of the world in terms of total purchases?\n",
    "\n",
    "### We'll use appropriate visualizations to help analyze the following:\n",
    "\n",
    "- Which products are performing the best, and which are performing the least in terms of revenue?\n",
    "- Is there any pattern between the age of customers and the last campaign acceptance rate?\n",
    "- Which Country has the greatest number of customers who accepted the last campaign?\n",
    "- Is there any pattern in the no. of children at home and total spend?\n",
    "- Education background of the customers who complained in the last 2 years."
   ]
  },
  {
   "cell_type": "code",
   "execution_count": 344,
   "metadata": {},
   "outputs": [],
   "source": [
    "import pandas as pd\n",
    "import numpy as np\n",
    "import matplotlib.pyplot as plt\n",
    "import seaborn as sns\n",
    "from scipy.stats import bernoulli, gaussian_kde, binom, poisson,norm,uniform"
   ]
  },
  {
   "cell_type": "markdown",
   "metadata": {},
   "source": [
    "## We will first create a data frame from the csv containing the data"
   ]
  },
  {
   "cell_type": "code",
   "execution_count": 345,
   "metadata": {},
   "outputs": [
    {
     "name": "stdout",
     "output_type": "stream",
     "text": [
      "      ID  Year_Birth   Education Marital_Status      Income   Kidhome  \\\n",
      "0   1826        1970  Graduation       Divorced  $84,835.00         0   \n",
      "1      1        1961  Graduation         Single  $57,091.00         0   \n",
      "2  10476        1958  Graduation        Married  $67,267.00         0   \n",
      "3   1386        1967  Graduation       Together  $32,474.00         1   \n",
      "4   5371        1989  Graduation         Single  $21,474.00         1   \n",
      "5   7348        1958         PhD         Single  $71,691.00         0   \n",
      "6   4073        1954    2n Cycle        Married  $63,564.00         0   \n",
      "7   1991        1967  Graduation       Together  $44,931.00         0   \n",
      "8   4047        1954         PhD        Married  $65,324.00         0   \n",
      "9   9477        1954         PhD        Married  $65,324.00         0   \n",
      "\n",
      "   Teenhome Dt_Customer  Recency  MntWines  ...  NumStorePurchases  \\\n",
      "0         0     6/16/14        0       189  ...                  6   \n",
      "1         0     6/15/14        0       464  ...                  7   \n",
      "2         1     5/13/14        0       134  ...                  5   \n",
      "3         1     5/11/14        0        10  ...                  2   \n",
      "4         0      4/8/14        0         6  ...                  2   \n",
      "5         0     3/17/14        0       336  ...                  5   \n",
      "6         0     1/29/14        0       769  ...                  7   \n",
      "7         1     1/18/14        0        78  ...                  3   \n",
      "8         1     1/11/14        0       384  ...                  9   \n",
      "9         1     1/11/14        0       384  ...                  9   \n",
      "\n",
      "   NumWebVisitsMonth  AcceptedCmp3  AcceptedCmp4  AcceptedCmp5  AcceptedCmp1  \\\n",
      "0                  1             0             0             0             0   \n",
      "1                  5             0             0             0             0   \n",
      "2                  2             0             0             0             0   \n",
      "3                  7             0             0             0             0   \n",
      "4                  7             1             0             0             0   \n",
      "5                  2             0             0             0             0   \n",
      "6                  6             1             0             0             0   \n",
      "7                  5             0             0             0             0   \n",
      "8                  4             0             0             0             0   \n",
      "9                  4             0             0             0             0   \n",
      "\n",
      "   AcceptedCmp2  Response  Complain  Country  \n",
      "0             0         1         0       SP  \n",
      "1             1         1         0       CA  \n",
      "2             0         0         0       US  \n",
      "3             0         0         0      AUS  \n",
      "4             0         1         0       SP  \n",
      "5             0         1         0       SP  \n",
      "6             0         1         0      GER  \n",
      "7             0         0         0       SP  \n",
      "8             0         0         0       US  \n",
      "9             0         0         0      IND  \n",
      "\n",
      "[10 rows x 28 columns]\n",
      "Index(['ID', 'Year_Birth', 'Education', 'Marital_Status', ' Income ',\n",
      "       'Kidhome', 'Teenhome', 'Dt_Customer', 'Recency', 'MntWines',\n",
      "       'MntFruits', 'MntMeatProducts', 'MntFishProducts', 'MntSweetProducts',\n",
      "       'MntGoldProds', 'NumDealsPurchases', 'NumWebPurchases',\n",
      "       'NumCatalogPurchases', 'NumStorePurchases', 'NumWebVisitsMonth',\n",
      "       'AcceptedCmp3', 'AcceptedCmp4', 'AcceptedCmp5', 'AcceptedCmp1',\n",
      "       'AcceptedCmp2', 'Response', 'Complain', 'Country'],\n",
      "      dtype='object')\n"
     ]
    }
   ],
   "source": [
    "mdata = pd.read_csv('marketing_data.csv')\n",
    "print(mdata.head(10))\n",
    "print(mdata.columns)"
   ]
  },
  {
   "cell_type": "markdown",
   "metadata": {},
   "source": [
    "## Then we'll ensure that the data is clean and that there is no missing or incorrect data\n",
    "## Inspecting the data manually by looking at the csv file we can see that sthe Income colum has some cells empty"
   ]
  },
  {
   "cell_type": "code",
   "execution_count": 346,
   "metadata": {},
   "outputs": [
    {
     "name": "stdout",
     "output_type": "stream",
     "text": [
      "<class 'pandas.core.frame.DataFrame'>\n",
      "RangeIndex: 2240 entries, 0 to 2239\n",
      "Data columns (total 28 columns):\n",
      " #   Column               Non-Null Count  Dtype \n",
      "---  ------               --------------  ----- \n",
      " 0   ID                   2240 non-null   int64 \n",
      " 1   Year_Birth           2240 non-null   int64 \n",
      " 2   Education            2240 non-null   object\n",
      " 3   Marital_Status       2240 non-null   object\n",
      " 4    Income              2216 non-null   object\n",
      " 5   Kidhome              2240 non-null   int64 \n",
      " 6   Teenhome             2240 non-null   int64 \n",
      " 7   Dt_Customer          2240 non-null   object\n",
      " 8   Recency              2240 non-null   int64 \n",
      " 9   MntWines             2240 non-null   int64 \n",
      " 10  MntFruits            2240 non-null   int64 \n",
      " 11  MntMeatProducts      2240 non-null   int64 \n",
      " 12  MntFishProducts      2240 non-null   int64 \n",
      " 13  MntSweetProducts     2240 non-null   int64 \n",
      " 14  MntGoldProds         2240 non-null   int64 \n",
      " 15  NumDealsPurchases    2240 non-null   int64 \n",
      " 16  NumWebPurchases      2240 non-null   int64 \n",
      " 17  NumCatalogPurchases  2240 non-null   int64 \n",
      " 18  NumStorePurchases    2240 non-null   int64 \n",
      " 19  NumWebVisitsMonth    2240 non-null   int64 \n",
      " 20  AcceptedCmp3         2240 non-null   int64 \n",
      " 21  AcceptedCmp4         2240 non-null   int64 \n",
      " 22  AcceptedCmp5         2240 non-null   int64 \n",
      " 23  AcceptedCmp1         2240 non-null   int64 \n",
      " 24  AcceptedCmp2         2240 non-null   int64 \n",
      " 25  Response             2240 non-null   int64 \n",
      " 26  Complain             2240 non-null   int64 \n",
      " 27  Country              2240 non-null   object\n",
      "dtypes: int64(23), object(5)\n",
      "memory usage: 490.1+ KB\n"
     ]
    }
   ],
   "source": [
    "mdata.info()"
   ]
  },
  {
   "cell_type": "markdown",
   "metadata": {},
   "source": [
    "### We can see from the info method that the 'Income' column has only 2216 non-null count. \n",
    "### Since the dataframe contains 2240 rows, the 'Income' column is missing 22 entries\n",
    "### We'll do further exploration of each column to detect any issues with the data in those columns\n",
    "### This is the strategy for checking validity of the data:\n",
    "- We will check to make sure there are no duplicate rows\n",
    "- We need to make sure that information that needs to be unique has no duplicates i.e. Customer ID\n",
    "- For Year of Birth we'll make sure that the number entered is a valid year (not in the future or 0 or too far into the past)\n",
    "- For Education, Marital Status,  we'll make sure all entries correspond to a logical category\n",
    "- For income we know we are missing data\n",
    "- Dt_Customer, we'll mke sure we've got valid dates\n",
    "- For Country we'll get a list of all unique values\n",
    "- For the rest of the numerical columns we'll get list of unique values"
   ]
  },
  {
   "cell_type": "code",
   "execution_count": 347,
   "metadata": {},
   "outputs": [
    {
     "name": "stdout",
     "output_type": "stream",
     "text": [
      "No duplicate rows found\n",
      "\n",
      "No duplicate IDs found\n",
      "\n",
      "These are the unique values for Year of Birth\n",
      "[1970 1961 1958 1967 1989 1954 1947 1979 1959 1981 1969 1977 1960 1966\n",
      " 1976 1965 1956 1975 1971 1986 1972 1974 1990 1987 1984 1968 1955 1983\n",
      " 1973 1978 1952 1962 1964 1982 1963 1957 1980 1945 1949 1948 1953 1946\n",
      " 1985 1992 1944 1951 1988 1950 1994 1993 1991 1893 1996 1995 1899 1943\n",
      " 1941 1940 1900]\n",
      "\n",
      "These are the Age outliers in the dataset\n",
      "         ID  Year_Birth Education Marital_Status      Income   Kidhome  \\\n",
      "513   11004        1893  2n Cycle         Single  $60,182.00         0   \n",
      "827    1150        1899       PhD       Together  $83,532.00         0   \n",
      "2233   7829        1900  2n Cycle       Divorced  $36,640.00         1   \n",
      "\n",
      "      Teenhome Dt_Customer  Recency  MntWines  ...  NumWebVisitsMonth  \\\n",
      "513          1     5/17/14       23         8  ...                  4   \n",
      "827          0     9/26/13       36       755  ...                  1   \n",
      "2233         0     9/26/13       99        15  ...                  5   \n",
      "\n",
      "      AcceptedCmp3  AcceptedCmp4  AcceptedCmp5  AcceptedCmp1  AcceptedCmp2  \\\n",
      "513              0             0             0             0             0   \n",
      "827              0             0             1             0             0   \n",
      "2233             0             0             0             0             0   \n",
      "\n",
      "      Response  Complain  Country  Age  \n",
      "513          0         0       SA  121  \n",
      "827          0         0       SP  114  \n",
      "2233         0         1      IND  113  \n",
      "\n",
      "[3 rows x 29 columns]\n",
      "\n",
      "Education\n",
      "Graduation    1127\n",
      "PhD            486\n",
      "Master         370\n",
      "2n Cycle       203\n",
      "Basic           54\n",
      "Name: count, dtype: int64\n",
      "\n",
      "Marital_Status\n",
      "Married     864\n",
      "Together    580\n",
      "Single      480\n",
      "Divorced    232\n",
      "Widow        77\n",
      "Alone         3\n",
      "YOLO          2\n",
      "Absurd        2\n",
      "Name: count, dtype: int64\n",
      "\n",
      "These are the Marital status outliers in the dataset\n",
      "         ID  Year_Birth   Education Marital_Status      Income   Kidhome  \\\n",
      "103     492        1973         PhD           YOLO  $48,432.00         0   \n",
      "104   11133        1973         PhD           YOLO  $48,432.00         0   \n",
      "286      92        1988  Graduation          Alone  $34,176.00         1   \n",
      "838    7660        1973         PhD          Alone  $35,860.00         1   \n",
      "959     433        1958      Master          Alone  $61,331.00         1   \n",
      "1068   4369        1957      Master         Absurd  $65,487.00         0   \n",
      "1339   7734        1993  Graduation         Absurd  $79,244.00         0   \n",
      "\n",
      "      Teenhome Dt_Customer  Recency  MntWines  ...  NumWebVisitsMonth  \\\n",
      "103          1    10/18/12        3       322  ...                  8   \n",
      "104          1    10/18/12        3       322  ...                  8   \n",
      "286          0     5/12/14       12         5  ...                  6   \n",
      "838          1     5/19/14       37        15  ...                  5   \n",
      "959          1     3/10/13       42       534  ...                  8   \n",
      "1068         0     1/10/14       48       240  ...                  2   \n",
      "1339         0    12/19/12       58       471  ...                  1   \n",
      "\n",
      "      AcceptedCmp3  AcceptedCmp4  AcceptedCmp5  AcceptedCmp1  AcceptedCmp2  \\\n",
      "103              0             0             0             0             0   \n",
      "104              0             0             0             0             0   \n",
      "286              0             0             0             0             0   \n",
      "838              1             0             0             0             0   \n",
      "959              0             0             0             0             0   \n",
      "1068             0             0             0             0             0   \n",
      "1339             0             0             1             1             0   \n",
      "\n",
      "      Response  Complain  Country  Age  \n",
      "103          0         0       CA   39  \n",
      "104          1         0      IND   39  \n",
      "286          0         0       CA   26  \n",
      "838          1         0       CA   41  \n",
      "959          0         0       CA   55  \n",
      "1068         0         0       CA   57  \n",
      "1339         1         0      AUS   19  \n",
      "\n",
      "[7 rows x 29 columns]\n",
      "\n",
      "Columns with Count of Missing values\n",
      "ID                      0\n",
      "Year_Birth              0\n",
      "Education               0\n",
      "Marital_Status          0\n",
      " Income                24\n",
      "Kidhome                 0\n",
      "Teenhome                0\n",
      "Dt_Customer             0\n",
      "Recency                 0\n",
      "MntWines                0\n",
      "MntFruits               0\n",
      "MntMeatProducts         0\n",
      "MntFishProducts         0\n",
      "MntSweetProducts        0\n",
      "MntGoldProds            0\n",
      "NumDealsPurchases       0\n",
      "NumWebPurchases         0\n",
      "NumCatalogPurchases     0\n",
      "NumStorePurchases       0\n",
      "NumWebVisitsMonth       0\n",
      "AcceptedCmp3            0\n",
      "AcceptedCmp4            0\n",
      "AcceptedCmp5            0\n",
      "AcceptedCmp1            0\n",
      "AcceptedCmp2            0\n",
      "Response                0\n",
      "Complain                0\n",
      "Country                 0\n",
      "Age                     0\n",
      "dtype: int64\n",
      "\n",
      "Rows with missing Income values\n",
      "         ID  Year_Birth   Education Marital_Status  Income   Kidhome  \\\n",
      "134    8996        1957         PhD        Married      NaN        2   \n",
      "262    1994        1983  Graduation        Married      NaN        1   \n",
      "394    3769        1972         PhD       Together      NaN        1   \n",
      "449    5255        1986  Graduation         Single      NaN        1   \n",
      "525    8268        1961         PhD        Married      NaN        0   \n",
      "590   10629        1973    2n Cycle        Married      NaN        1   \n",
      "899   10475        1970      Master       Together      NaN        0   \n",
      "997    9235        1957  Graduation         Single      NaN        1   \n",
      "1096   4345        1964    2n Cycle         Single      NaN        1   \n",
      "1185   7187        1969      Master       Together      NaN        1   \n",
      "1213   8720        1978    2n Cycle       Together      NaN        0   \n",
      "1312   8557        1982  Graduation         Single      NaN        1   \n",
      "1515   2863        1970  Graduation         Single      NaN        1   \n",
      "1558   2437        1989  Graduation        Married      NaN        0   \n",
      "1693   5250        1943      Master          Widow      NaN        0   \n",
      "1804   7281        1959         PhD         Single      NaN        0   \n",
      "1858   1612        1981         PhD         Single      NaN        1   \n",
      "1863   5079        1971  Graduation        Married      NaN        1   \n",
      "1880  10339        1954      Master       Together      NaN        0   \n",
      "1967   5798        1973      Master       Together      NaN        0   \n",
      "1983   2902        1958  Graduation       Together      NaN        1   \n",
      "2139   3117        1955  Graduation         Single      NaN        0   \n",
      "2165   7244        1951  Graduation         Single      NaN        2   \n",
      "2170   1295        1963  Graduation        Married      NaN        0   \n",
      "\n",
      "      Teenhome Dt_Customer  Recency  MntWines  ...  NumWebVisitsMonth  \\\n",
      "134          1    11/19/12        4       230  ...                  9   \n",
      "262          0    11/15/13       11         5  ...                  7   \n",
      "394          0      3/2/14       17        25  ...                  7   \n",
      "449          0     2/20/13       19         5  ...                  1   \n",
      "525          1     7/11/13       23       352  ...                  6   \n",
      "590          0     9/14/12       25        25  ...                  8   \n",
      "899          1      4/1/13       39       187  ...                  5   \n",
      "997          1     5/27/14       45         7  ...                  7   \n",
      "1096         1     1/12/14       49         5  ...                  7   \n",
      "1185         1     5/18/13       52       375  ...                  3   \n",
      "1213         0     8/12/12       53        32  ...                  0   \n",
      "1312         0     6/17/13       57        11  ...                  6   \n",
      "1515         2     8/23/13       67       738  ...                  7   \n",
      "1558         0      6/3/13       69       861  ...                  3   \n",
      "1693         0    10/30/13       75       532  ...                  1   \n",
      "1804         0     11/5/13       80        81  ...                  2   \n",
      "1858         0     5/31/13       82        23  ...                  6   \n",
      "1863         1      3/3/13       82        71  ...                  8   \n",
      "1880         1     6/23/13       83       161  ...                  6   \n",
      "1967         0    11/23/13       87       445  ...                  1   \n",
      "1983         1      9/3/12       87        19  ...                  5   \n",
      "2139         1    10/18/13       95       264  ...                  7   \n",
      "2165         1      1/1/14       96        48  ...                  6   \n",
      "2170         1     8/11/13       96       231  ...                  4   \n",
      "\n",
      "      AcceptedCmp3  AcceptedCmp4  AcceptedCmp5  AcceptedCmp1  AcceptedCmp2  \\\n",
      "134              0             0             0             0             0   \n",
      "262              0             0             0             0             0   \n",
      "394              0             0             0             0             0   \n",
      "449              0             0             0             0             0   \n",
      "525              0             0             0             0             0   \n",
      "590              0             0             0             0             0   \n",
      "899              0             0             0             0             0   \n",
      "997              0             0             0             0             0   \n",
      "1096             0             0             0             0             0   \n",
      "1185             0             0             0             0             0   \n",
      "1213             0             1             0             0             0   \n",
      "1312             0             0             0             0             0   \n",
      "1515             0             1             0             1             0   \n",
      "1558             0             1             0             1             0   \n",
      "1693             0             0             1             0             0   \n",
      "1804             0             0             0             0             0   \n",
      "1858             0             0             0             0             0   \n",
      "1863             0             0             0             0             0   \n",
      "1880             0             0             0             0             0   \n",
      "1967             0             0             0             0             0   \n",
      "1983             0             0             0             0             0   \n",
      "2139             0             0             0             0             0   \n",
      "2165             0             0             0             0             0   \n",
      "2170             0             0             0             0             0   \n",
      "\n",
      "      Response  Complain  Country  Age  \n",
      "134          0         0      GER   55  \n",
      "262          0         0       US   30  \n",
      "394          0         0      AUS   42  \n",
      "449          0         0      AUS   27  \n",
      "525          0         0       CA   52  \n",
      "590          0         0      GER   39  \n",
      "899          0         0       US   43  \n",
      "997          0         0      GER   57  \n",
      "1096         0         0      AUS   50  \n",
      "1185         0         0      AUS   44  \n",
      "1213         0         0      IND   34  \n",
      "1312         0         0      AUS   31  \n",
      "1515         0         0       SP   43  \n",
      "1558         0         0       SP   24  \n",
      "1693         1         0      AUS   70  \n",
      "1804         0         0      AUS   54  \n",
      "1858         0         0      AUS   32  \n",
      "1863         0         0      AUS   42  \n",
      "1880         0         0      AUS   59  \n",
      "1967         0         0      GER   40  \n",
      "1983         0         0      AUS   54  \n",
      "2139         0         0      AUS   58  \n",
      "2165         0         0      AUS   63  \n",
      "2170         0         0       CA   50  \n",
      "\n",
      "[24 rows x 29 columns]\n",
      "\n",
      "Country\n",
      "SP     1095\n",
      "SA      337\n",
      "CA      268\n",
      "AUS     160\n",
      "IND     148\n",
      "GER     120\n",
      "US      109\n",
      "ME        3\n",
      "Name: count, dtype: int64\n",
      "\n",
      "Year_Birth: Min-Max: 1893 - 1996\n",
      "\n",
      "Kidhome: Min-Max: 0 - 2\n",
      "\n",
      "Teenhome: Min-Max: 0 - 2\n",
      "\n",
      "Recency: Min-Max: 0 - 99\n",
      "\n",
      "MntWines: Min-Max: 0 - 1493\n",
      "\n",
      "MntFruits: Min-Max: 0 - 199\n",
      "\n",
      "MntMeatProducts: Min-Max: 0 - 1725\n",
      "\n",
      "MntFishProducts: Min-Max: 0 - 259\n",
      "\n",
      "MntSweetProducts: Min-Max: 0 - 263\n",
      "\n",
      "MntGoldProds: Min-Max: 0 - 362\n",
      "\n",
      "NumDealsPurchases: Min-Max: 0 - 15\n",
      "\n",
      "NumWebPurchases: Min-Max: 0 - 27\n",
      "\n",
      "NumCatalogPurchases: Min-Max: 0 - 28\n",
      "\n",
      "NumStorePurchases: Min-Max: 0 - 13\n",
      "\n",
      "NumWebVisitsMonth: Min-Max: 0 - 20\n",
      "\n",
      "AcceptedCmp3: Min-Max: 0 - 1\n",
      "\n",
      "AcceptedCmp4: Min-Max: 0 - 1\n",
      "\n",
      "AcceptedCmp5: Min-Max: 0 - 1\n",
      "\n",
      "AcceptedCmp1: Min-Max: 0 - 1\n",
      "\n",
      "AcceptedCmp2: Min-Max: 0 - 1\n",
      "\n",
      "Response: Min-Max: 0 - 1\n",
      "\n",
      "Complain: Min-Max: 0 - 1\n",
      "\n",
      "Age: Min-Max: 16 - 121\n",
      "\n"
     ]
    }
   ],
   "source": [
    "# Check for duplicates\n",
    "duplicate_rows = mdata[mdata.duplicated()]\n",
    "if duplicate_rows.empty:\n",
    "    print('No duplicate rows found')\n",
    "else:\n",
    "    print(duplicate_rows)\n",
    "    \n",
    "print()\n",
    "\n",
    "# Check for duplicate IDs\n",
    "duplicate_ids = mdata[mdata['ID'].duplicated()]\n",
    "if duplicate_ids.empty:\n",
    "    print('No duplicate IDs found')\n",
    "else:\n",
    "    print(duplicate_ids)\n",
    "    \n",
    "print()\n",
    "\n",
    "\n",
    "# Check unique values for Year of Birth\n",
    "print(\"These are the unique values for Year of Birth\")\n",
    "print(mdata['Year_Birth'].unique())\n",
    "\n",
    "print()\n",
    "\n",
    "# Add new column for Age to the original dataset\n",
    "mdata['Age'] = pd.to_datetime(mdata['Dt_Customer'],format=\"%m/%d/%y\").dt.year - mdata['Year_Birth']\n",
    "\n",
    "# Check Year of Birth outliers\n",
    "outliers = mdata[mdata['Age'] > 100]\n",
    "print('These are the Age outliers in the dataset')\n",
    "print(outliers)\n",
    "print()\n",
    "\n",
    "\n",
    "# Check unique values for Education\n",
    "print(mdata['Education'].value_counts())\n",
    "\n",
    "print()\n",
    "\n",
    "# Check unique values for Marital Status\n",
    "print(mdata['Marital_Status'].value_counts())\n",
    "\n",
    "print()\n",
    "\n",
    "# Check the outlier marital status categories of 'Absurd', 'Yolo' and 'Alone'\n",
    "outlier_marital_status = mdata[(mdata['Marital_Status'] == 'Absurd') | (mdata['Marital_Status'] == 'YOLO') | (mdata['Marital_Status'] == 'Alone')]\n",
    "# outlier marita status ages\n",
    "print('These are the Marital status outliers in the dataset')\n",
    "print(outlier_marital_status)\n",
    "print()\n",
    "\n",
    "\n",
    "#Check missing values\n",
    "print('Columns with Count of Missing values')\n",
    "print(mdata.isnull().sum())\n",
    "print()\n",
    "# Print rows with missing values\n",
    "missing_income_rows = mdata[mdata[' Income '].isnull()]\n",
    "print('Rows with missing Income values')\n",
    "print(mdata[mdata.isnull().any(axis=1)])\n",
    "print()\n",
    "\n",
    "#Check Country Unique values\n",
    "print(mdata['Country'].value_counts())\n",
    "print()\n",
    "\n",
    "# Check kidhom and all other numerical columns for valid values\n",
    "unique_values_in_numerical_columns = {col:set() for col in mdata.select_dtypes(include=[np.number]).columns}\n",
    "for index,row in mdata.iterrows():\n",
    "    for col in unique_values_in_numerical_columns:\n",
    "        unique_values_in_numerical_columns[col].add(row[col])\n",
    "        \n",
    "#print unique values in numerical columns except ID\n",
    "for col in unique_values_in_numerical_columns:\n",
    "    if col != 'ID':\n",
    "        print(f'{col}: Min-Max: {min(unique_values_in_numerical_columns[col])} - {max(unique_values_in_numerical_columns[col])}')\n",
    "        print()\n",
    "        \n"
   ]
  },
  {
   "cell_type": "markdown",
   "metadata": {},
   "source": [
    "## Given the data exploration above we have identified the following issues:\n",
    "\n",
    "- There are 7 rows with marital status categories that are not valid categories, i.e. \"YOLO\", \"Alone\", \"Absurd\"\n",
    "- There are 3 rows with a Birth Year of 1900 or less, making their ages over 110 years of age\n",
    "- There are 24 rows with missing income\n",
    "\n",
    "## Suggested Resolution of these issues:\n",
    "\n",
    "- For Marital status, since in this project, marital status is not factoring into any of our proposed hypotheses, we will leave them as they are\n",
    "- For the Birth Year issue, we'll run multiple scenarios to see how it affects our conclusions: 1. deleting the 3 rows, 2. imputating the data by using median age, 3. using 1st quartile mean age 4. using 3rd quartile mean age 5. assigning to each outlier the mean age of the income quartile in which the income of the outlier falls\n",
    "- For the 24 rows of missing income, we'll imputate the missing values by looking at education and marital status and assume that the customers with similar education and marital status make the same yearly income, on average."
   ]
  },
  {
   "cell_type": "markdown",
   "metadata": {},
   "source": [
    "## Birth Year mean without any modifications to original dataset"
   ]
  },
  {
   "cell_type": "code",
   "execution_count": 348,
   "metadata": {},
   "outputs": [
    {
     "name": "stdout",
     "output_type": "stream",
     "text": [
      "count    2240.000000\n",
      "mean       44.222321\n",
      "std        12.022855\n",
      "min        16.000000\n",
      "25%        36.000000\n",
      "50%        43.000000\n",
      "75%        54.000000\n",
      "max       121.000000\n",
      "Name: Age, dtype: float64\n"
     ]
    },
    {
     "data": {
      "text/plain": [
       "<Axes: ylabel='Frequency'>"
      ]
     },
     "execution_count": 348,
     "metadata": {},
     "output_type": "execute_result"
    },
    {
     "data": {
      "image/png": "[encoded data removed]",
      "text/plain": [
       "<Figure size 640x480 with 1 Axes>"
      ]
     },
     "metadata": {},
     "output_type": "display_data"
    }
   ],
   "source": [
    "print(mdata['Age'].describe())\n",
    "mdata['Age'].plot(kind='hist',bins=20)"
   ]
  },
  {
   "cell_type": "markdown",
   "metadata": {},
   "source": [
    "## Birth Year Removal of Outliers"
   ]
  },
  {
   "cell_type": "code",
   "execution_count": 349,
   "metadata": {},
   "outputs": [
    {
     "name": "stdout",
     "output_type": "stream",
     "text": [
      "count    2237.000000\n",
      "mean       44.126062\n",
      "std        11.739008\n",
      "min        16.000000\n",
      "25%        36.000000\n",
      "50%        43.000000\n",
      "75%        54.000000\n",
      "max        73.000000\n",
      "Name: Age, dtype: float64\n"
     ]
    },
    {
     "data": {
      "text/plain": [
       "<Axes: >"
      ]
     },
     "execution_count": 349,
     "metadata": {},
     "output_type": "execute_result"
    },
    {
     "data": {
      "image/png": "[encoded data removed]",
      "text/plain": [
       "<Figure size 640x480 with 1 Axes>"
      ]
     },
     "metadata": {},
     "output_type": "display_data"
    }
   ],
   "source": [
    "mdata_no_age_outliers = mdata.copy()\n",
    "mdata_no_age_outliers = mdata[mdata['Age'] <= 100]\n",
    "print(mdata_no_age_outliers['Age'].describe())\n",
    "mdata_no_age_outliers['Age'].hist()"
   ]
  },
  {
   "cell_type": "markdown",
   "metadata": {},
   "source": [
    "## Birth Year Imputations - using mean age"
   ]
  },
  {
   "cell_type": "code",
   "execution_count": 350,
   "metadata": {},
   "outputs": [
    {
     "name": "stdout",
     "output_type": "stream",
     "text": [
      "count    2240.000000\n",
      "mean       44.125893\n",
      "std        11.731142\n",
      "min        16.000000\n",
      "25%        36.000000\n",
      "50%        43.000000\n",
      "75%        54.000000\n",
      "max        73.000000\n",
      "Name: Age, dtype: float64\n"
     ]
    },
    {
     "data": {
      "text/plain": [
       "<Axes: >"
      ]
     },
     "execution_count": 350,
     "metadata": {},
     "output_type": "execute_result"
    },
    {
     "data": {
      "image/png": "[encoded data removed]",
      "text/plain": [
       "<Figure size 640x480 with 1 Axes>"
      ]
     },
     "metadata": {},
     "output_type": "display_data"
    }
   ],
   "source": [
    "mdata_age_outliers_to_mean = mdata.copy()\n",
    "mdata_age_outliers_to_mean.loc[mdata_age_outliers_to_mean['Age'] > 100, 'Age'] = int(mdata['Age'].mean())\n",
    "print(mdata_age_outliers_to_mean['Age'].describe())\n",
    "mdata_age_outliers_to_mean['Age'].hist()\n"
   ]
  },
  {
   "cell_type": "markdown",
   "metadata": {},
   "source": [
    "## Birth Year Imputations - using 1st quartile mean age"
   ]
  },
  {
   "cell_type": "code",
   "execution_count": 351,
   "metadata": {},
   "outputs": [
    {
     "name": "stdout",
     "output_type": "stream",
     "text": [
      "count    2240.000000\n",
      "mean       44.115179\n",
      "std        11.734907\n",
      "min        16.000000\n",
      "25%        36.000000\n",
      "50%        43.000000\n",
      "75%        54.000000\n",
      "max        73.000000\n",
      "Name: Age, dtype: float64\n"
     ]
    },
    {
     "data": {
      "text/plain": [
       "<Axes: >"
      ]
     },
     "execution_count": 351,
     "metadata": {},
     "output_type": "execute_result"
    },
    {
     "data": {
      "image/png": "[encoded data removed]",
      "text/plain": [
       "<Figure size 640x480 with 1 Axes>"
      ]
     },
     "metadata": {},
     "output_type": "display_data"
    }
   ],
   "source": [
    "mdata_age_outliers_to_1st_quartile = mdata.copy()\n",
    "mdata_age_outliers_to_1st_quartile.loc[mdata_age_outliers_to_1st_quartile['Age'] > 100, 'Age'] = int(mdata['Age'].quantile(0.25))\n",
    "print(mdata_age_outliers_to_1st_quartile['Age'].describe())\n",
    "mdata_age_outliers_to_1st_quartile['Age'].hist()"
   ]
  },
  {
   "cell_type": "markdown",
   "metadata": {},
   "source": [
    "## Birth Year Imputations  - using 3rd quartile mean age"
   ]
  },
  {
   "cell_type": "code",
   "execution_count": 352,
   "metadata": {},
   "outputs": [
    {
     "name": "stdout",
     "output_type": "stream",
     "text": [
      "count    2240.000000\n",
      "mean       44.139286\n",
      "std        11.736700\n",
      "min        16.000000\n",
      "25%        36.000000\n",
      "50%        43.000000\n",
      "75%        54.000000\n",
      "max        73.000000\n",
      "Name: Age, dtype: float64\n"
     ]
    },
    {
     "data": {
      "text/plain": [
       "<Axes: >"
      ]
     },
     "execution_count": 352,
     "metadata": {},
     "output_type": "execute_result"
    },
    {
     "data": {
      "image/png": "[encoded data removed]",
      "text/plain": [
       "<Figure size 640x480 with 1 Axes>"
      ]
     },
     "metadata": {},
     "output_type": "display_data"
    }
   ],
   "source": [
    "mdata_age_outliers_to_3rd_quartile = mdata.copy()\n",
    "mdata_age_outliers_to_3rd_quartile.loc[mdata_age_outliers_to_3rd_quartile['Age'] > 100, 'Age'] = int(mdata['Age'].quantile(0.75))\n",
    "print(mdata_age_outliers_to_3rd_quartile['Age'].describe())\n",
    "mdata_age_outliers_to_3rd_quartile['Age'].hist()"
   ]
  },
  {
   "cell_type": "markdown",
   "metadata": {},
   "source": [
    "## Plot Age distribution"
   ]
  },
  {
   "cell_type": "code",
   "execution_count": 353,
   "metadata": {},
   "outputs": [
    {
     "name": "stdout",
     "output_type": "stream",
     "text": [
      "\n",
      "count    2240.000000\n",
      "mean       44.222321\n",
      "std        12.022855\n",
      "min        16.000000\n",
      "25%        36.000000\n",
      "50%        43.000000\n",
      "75%        54.000000\n",
      "max       121.000000\n",
      "Name: Age, dtype: float64\n"
     ]
    },
    {
     "data": {
      "image/png": "[encoded data removed]",
      "text/plain": [
       "<Figure size 640x480 with 1 Axes>"
      ]
     },
     "metadata": {},
     "output_type": "display_data"
    }
   ],
   "source": [
    "# Plot of the ages distribution of the customers    \n",
    "mdata['Age'].plot(kind='hist',bins=20)\n",
    "print()\n",
    "print(mdata['Age'].describe()) "
   ]
  },
  {
   "cell_type": "markdown",
   "metadata": {},
   "source": [
    "## Using the income quartile mean that comes closes to the income for each of the 3 age outliers"
   ]
  },
  {
   "cell_type": "code",
   "execution_count": 354,
   "metadata": {},
   "outputs": [
    {
     "name": "stdout",
     "output_type": "stream",
     "text": [
      "0.25    34722.00\n",
      "0.50    51075.00\n",
      "0.75    68289.75\n",
      "Name:  Income , dtype: float64\n",
      "<class 'pandas.core.series.Series'>\n",
      "RangeIndex: 2240 entries, 0 to 2239\n",
      "Series name:  Income \n",
      "Non-Null Count  Dtype  \n",
      "--------------  -----  \n",
      "2240 non-null   float64\n",
      "dtypes: float64(1)\n",
      "memory usage: 17.6 KB\n",
      "None\n",
      "\n",
      "         ID  Year_Birth Education Marital_Status      Income   Kidhome  \\\n",
      "513   11004        1893  2n Cycle         Single  $60,182.00         0   \n",
      "827    1150        1899       PhD       Together  $83,532.00         0   \n",
      "2233   7829        1900  2n Cycle       Divorced  $36,640.00         1   \n",
      "\n",
      "      Teenhome Dt_Customer  Recency  MntWines  ...  NumWebVisitsMonth  \\\n",
      "513          1     5/17/14       23         8  ...                  4   \n",
      "827          0     9/26/13       36       755  ...                  1   \n",
      "2233         0     9/26/13       99        15  ...                  5   \n",
      "\n",
      "      AcceptedCmp3  AcceptedCmp4  AcceptedCmp5  AcceptedCmp1  AcceptedCmp2  \\\n",
      "513              0             0             0             0             0   \n",
      "827              0             0             1             0             0   \n",
      "2233             0             0             0             0             0   \n",
      "\n",
      "      Response  Complain  Country  Age  \n",
      "513          0         0       SA  121  \n",
      "827          0         0       SP  114  \n",
      "2233         0         1      IND  113  \n",
      "\n",
      "[3 rows x 29 columns]\n",
      " WHAT THE FUCK\n",
      "\n",
      "closest_q:  q3\n",
      "ID                        11004\n",
      "Year_Birth                 1893\n",
      "Education              2n Cycle\n",
      "Marital_Status           Single\n",
      " Income                 60182.0\n",
      "Kidhome                       0\n",
      "Teenhome                      1\n",
      "Dt_Customer             5/17/14\n",
      "Recency                      23\n",
      "MntWines                      8\n",
      "MntFruits                     0\n",
      "MntMeatProducts               5\n",
      "MntFishProducts               7\n",
      "MntSweetProducts              0\n",
      "MntGoldProds                  2\n",
      "NumDealsPurchases             1\n",
      "NumWebPurchases               1\n",
      "NumCatalogPurchases           0\n",
      "NumStorePurchases             2\n",
      "NumWebVisitsMonth             4\n",
      "AcceptedCmp3                  0\n",
      "AcceptedCmp4                  0\n",
      "AcceptedCmp5                  0\n",
      "AcceptedCmp1                  0\n",
      "AcceptedCmp2                  0\n",
      "Response                      0\n",
      "Complain                      0\n",
      "Country                      SA\n",
      "Age                          47\n",
      "Name: 513, dtype: object\n",
      "\n",
      "count    2240.000000\n",
      "mean       44.189286\n",
      "std        11.912959\n",
      "min        16.000000\n",
      "25%        36.000000\n",
      "50%        43.000000\n",
      "75%        54.000000\n",
      "max       114.000000\n",
      "Name: Age, dtype: float64\n",
      "\n",
      "closest_q:  q4\n",
      "ID                         1150\n",
      "Year_Birth                 1899\n",
      "Education                   PhD\n",
      "Marital_Status         Together\n",
      " Income                 83532.0\n",
      "Kidhome                       0\n",
      "Teenhome                      0\n",
      "Dt_Customer             9/26/13\n",
      "Recency                      36\n",
      "MntWines                    755\n",
      "MntFruits                   144\n",
      "MntMeatProducts             562\n",
      "MntFishProducts             104\n",
      "MntSweetProducts             64\n",
      "MntGoldProds                224\n",
      "NumDealsPurchases             1\n",
      "NumWebPurchases               4\n",
      "NumCatalogPurchases           6\n",
      "NumStorePurchases             4\n",
      "NumWebVisitsMonth             1\n",
      "AcceptedCmp3                  0\n",
      "AcceptedCmp4                  0\n",
      "AcceptedCmp5                  1\n",
      "AcceptedCmp1                  0\n",
      "AcceptedCmp2                  0\n",
      "Response                      0\n",
      "Complain                      0\n",
      "Country                      SP\n",
      "Age                          45\n",
      "Name: 827, dtype: object\n",
      "\n",
      "count    2240.000000\n",
      "mean       44.158482\n",
      "std        11.821222\n",
      "min        16.000000\n",
      "25%        36.000000\n",
      "50%        43.000000\n",
      "75%        54.000000\n",
      "max       113.000000\n",
      "Name: Age, dtype: float64\n",
      "\n",
      "closest_q:  q2\n",
      "ID                         7829\n",
      "Year_Birth                 1900\n",
      "Education              2n Cycle\n",
      "Marital_Status         Divorced\n",
      " Income                 36640.0\n",
      "Kidhome                       1\n",
      "Teenhome                      0\n",
      "Dt_Customer             9/26/13\n",
      "Recency                      99\n",
      "MntWines                     15\n",
      "MntFruits                     6\n",
      "MntMeatProducts               8\n",
      "MntFishProducts               7\n",
      "MntSweetProducts              4\n",
      "MntGoldProds                 25\n",
      "NumDealsPurchases             1\n",
      "NumWebPurchases               2\n",
      "NumCatalogPurchases           1\n",
      "NumStorePurchases             2\n",
      "NumWebVisitsMonth             5\n",
      "AcceptedCmp3                  0\n",
      "AcceptedCmp4                  0\n",
      "AcceptedCmp5                  0\n",
      "AcceptedCmp1                  0\n",
      "AcceptedCmp2                  0\n",
      "Response                      0\n",
      "Complain                      1\n",
      "Country                     IND\n",
      "Age                          44\n",
      "Name: 2233, dtype: object\n",
      "\n",
      "count    2240.000000\n",
      "mean       44.127679\n",
      "std        11.731313\n",
      "min        16.000000\n",
      "25%        36.000000\n",
      "50%        43.000000\n",
      "75%        54.000000\n",
      "max        73.000000\n",
      "Name: Age, dtype: float64\n"
     ]
    }
   ],
   "source": [
    "\n",
    "# Change income to float, can only be run once\n",
    "mdata[' Income ']=mdata[' Income '].str.replace('$','').str.replace(',','').astype(float) \n",
    "\n",
    "# Replace missing values with 0\n",
    "mdata[' Income '] = mdata[' Income '].fillna(0)\n",
    "\n",
    "# Calcualte the quartiles for income\n",
    "quartiles = mdata[' Income '].quantile([0.25,0.5,0.75])\n",
    "print(quartiles)\n",
    "print(mdata[' Income '].info())\n",
    "print()\n",
    "print(outliers)\n",
    "\n",
    "# Calculate the mean income for each quartile\n",
    "mean_income_1st_quartile = mdata[mdata[' Income '] <= quartiles[0.25]][' Income '].mean()\n",
    "mean_income_2nd_quartile = mdata[(mdata[' Income '] > quartiles[0.25]) & (mdata[' Income '] <= quartiles[0.5])][' Income '].mean()\n",
    "mean_income_3rd_quartile = mdata[(mdata[' Income '] > quartiles[0.5]) & (mdata[' Income '] <= quartiles[0.75])][' Income '].mean()\n",
    "mean_income_4th_quartile = mdata[mdata[' Income '] > quartiles[0.75]][' Income '].mean()\n",
    "\n",
    "# Store the means in a dictionary\n",
    "quartile_means = {'q1':mean_income_1st_quartile, 'q2':mean_income_2nd_quartile, 'q3':mean_income_3rd_quartile, 'q4':mean_income_4th_quartile}\n",
    "\n",
    "#Function to find closest quartile baed on income\n",
    "def closest_quartile(income,quartile_means):\n",
    "    closest_q = min(quartile_means, key=lambda x:abs(quartile_means[x]-income))\n",
    "    return closest_q\n",
    "print(' WHAT THE FUCK')\n",
    "# Itaration over age outliers and assign to closest quartile\n",
    "for index, row in mdata[mdata['Age']>100].iterrows():\n",
    "    income=row[' Income ']\n",
    "    closest_q=closest_quartile(income,quartile_means)\n",
    "    print()\n",
    "    print('closest_q: ',closest_q)\n",
    "    \n",
    "    if closest_q == 'q1':\n",
    "        mdata.at[index, 'Age']=int(mdata[mdata[' Income '] <= quartiles[0.25]]['Age'].mean())\n",
    "    elif closest_q == 'q2':\n",
    "        mdata.at[index, 'Age']=int(mdata[(mdata[' Income '] > quartiles[0.25]) & (mdata[' Income '] <= quartiles[0.5])]['Age'].mean())\n",
    "    elif closest_q == 'q3':\n",
    "        mdata.at[index, 'Age']=int(mdata[(mdata[' Income '] > quartiles[0.5]) & (mdata[' Income '] <= quartiles[0.75])]['Age'].mean())\n",
    "    elif closest_q == 'q4':\n",
    "        mdata.at[index, 'Age']=int(mdata[mdata[' Income '] > quartiles[0.75]]['Age'].mean())\n",
    "    \n",
    "    print(mdata.loc[index])\n",
    "    print()\n",
    "    print(mdata['Age'].describe())\n",
    "    "
   ]
  },
  {
   "cell_type": "code",
   "execution_count": 326,
   "metadata": {},
   "outputs": [
    {
     "data": {
      "text/plain": [
       "<Axes: ylabel='Frequency'>"
      ]
     },
     "execution_count": 326,
     "metadata": {},
     "output_type": "execute_result"
    },
    {
     "data": {
      "image/png": "[encoded data removed]",
      "text/plain": [
       "<Figure size 640x480 with 1 Axes>"
      ]
     },
     "metadata": {},
     "output_type": "display_data"
    }
   ],
   "source": [
    "# Plot of the ages distribution of the customers    \n",
    "mdata['Age'].plot(kind='hist',bins=20)"
   ]
  },
  {
   "cell_type": "code",
   "execution_count": null,
   "metadata": {},
   "outputs": [],
   "source": []
  },
  {
   "cell_type": "markdown",
   "metadata": {},
   "source": [
    "## Given the distribution of the customer ages, we can see that the outliers consist of a very small percentage 3/2240= 0.13%\n",
    "## Given that small percentage of age outliers, we'll investigate the implications of deleting these rows.\n"
   ]
  },
  {
   "cell_type": "code",
   "execution_count": 167,
   "metadata": {},
   "outputs": [
    {
     "name": "stdout",
     "output_type": "stream",
     "text": [
      "Mean:  52247.25135379061\n",
      "Median:  51381.5\n",
      "Min:  1730.0 Max:  666666.0\n",
      "1st quartile:  35303.0 2nd quartile:  51381.5 3rd quartile:  68522.0\n",
      "Inter Quartile Range:  33219.0\n",
      "\n",
      "Outliers\n",
      "         ID  Year_Birth   Education Marital_Status   Income   Kidhome  \\\n",
      "142   10089        1974  Graduation       Divorced  102692.0        0   \n",
      "210    4619        1945         PhD         Single  113734.0        0   \n",
      "325    4931        1977  Graduation       Together  157146.0        0   \n",
      "497    1501        1982         PhD        Married  160803.0        0   \n",
      "527    9432        1977  Graduation       Together  666666.0        1   \n",
      "731    1503        1976         PhD       Together  162397.0        1   \n",
      "832    4611        1970  Graduation       Together  105471.0        0   \n",
      "853    5336        1971      Master       Together  157733.0        1   \n",
      "1244   2798        1977         PhD       Together  102160.0        0   \n",
      "1564   7215        1983  Graduation         Single  101970.0        0   \n",
      "1826   5555        1975  Graduation       Divorced  153924.0        0   \n",
      "1925  11181        1949         PhD        Married  156924.0        0   \n",
      "2204   8475        1973         PhD        Married  157243.0        0   \n",
      "\n",
      "      Teenhome Dt_Customer  Recency  MntWines  ...  NumWebVisitsMonth  \\\n",
      "142          0      4/5/13        5       168  ...                  2   \n",
      "210          0     5/28/14        9         6  ...                  1   \n",
      "325          0     4/29/13       13         1  ...                  1   \n",
      "497          0      8/4/12       21        55  ...                  0   \n",
      "527          0      6/2/13       23         9  ...                  6   \n",
      "731          1      6/3/13       31        85  ...                  1   \n",
      "832          0     1/21/13       36      1009  ...                  3   \n",
      "853          0      6/4/13       37        39  ...                  1   \n",
      "1244         0     11/2/12       54       763  ...                  4   \n",
      "1564         0     3/12/13       69       722  ...                  2   \n",
      "1826         0      2/7/14       81         1  ...                  0   \n",
      "1925         0     8/29/13       85         2  ...                  0   \n",
      "2204         1      3/1/14       98        20  ...                  0   \n",
      "\n",
      "      AcceptedCmp3  AcceptedCmp4  AcceptedCmp5  AcceptedCmp1  AcceptedCmp2  \\\n",
      "142              0             1             1             1             1   \n",
      "210              0             0             0             0             0   \n",
      "325              0             0             0             0             0   \n",
      "497              0             0             0             0             0   \n",
      "527              0             0             0             0             0   \n",
      "731              0             0             0             0             0   \n",
      "832              0             0             1             1             0   \n",
      "853              0             0             0             0             0   \n",
      "1244             0             1             1             1             0   \n",
      "1564             0             1             1             1             0   \n",
      "1826             0             0             0             0             0   \n",
      "1925             0             0             0             0             0   \n",
      "2204             0             0             0             0             0   \n",
      "\n",
      "      Response  Complain  Country  Age  \n",
      "142          1         0       SA   39  \n",
      "210          0         0       SP   69  \n",
      "325          0         0       SA   36  \n",
      "497          0         0       US   30  \n",
      "527          0         0       SA   36  \n",
      "731          0         0       SP   37  \n",
      "832          1         0       SP   43  \n",
      "853          0         0       SP   42  \n",
      "1244         1         0       SA   35  \n",
      "1564         1         0       CA   30  \n",
      "1826         0         0       SP   39  \n",
      "1925         0         0       CA   64  \n",
      "2204         0         0      IND   41  \n",
      "\n",
      "[13 rows x 29 columns]\n",
      "\n"
     ]
    },
    {
     "data": {
      "text/plain": [
       "<Axes: ylabel='Frequency'>"
      ]
     },
     "execution_count": 167,
     "metadata": {},
     "output_type": "execute_result"
    },
    {
     "data": {
      "image/png": "[encoded data removed]",
      "text/plain": [
       "<Figure size 640x480 with 1 Axes>"
      ]
     },
     "metadata": {},
     "output_type": "display_data"
    }
   ],
   "source": [
    "# Change the income column dtype to float ******* CAN ONLY BE RUN ONCE\n",
    "# mdata[' Income '] = mdata[' Income '].str.replace('$','').str.replace(',','').astype(float)\n",
    "# Plot of the income distribution of the customers\n",
    "print('Mean: ',mdata[' Income '].mean())\n",
    "print('Median: ',mdata[' Income '].median())\n",
    "print('Min: ',mdata[' Income '].min(),'Max: ',mdata[' Income '].max())\n",
    "q1= mdata[' Income '].quantile(0.25)\n",
    "q2= mdata[' Income '].quantile(0.5)\n",
    "q3= mdata[' Income '].quantile(0.75)\n",
    "print('1st quartile: ',q1,'2nd quartile: ',q2,'3rd quartile: ',q3)\n",
    "iqr=q3-q1\n",
    "print('Inter Quartile Range: ',iqr)\n",
    "print()\n",
    "print('Outliers')\n",
    "print(mdata[(mdata[' Income '] < q1 - 1.5*iqr) | (mdata[' Income '] > q3 + 1*iqr)])\n",
    "print()\n",
    "mdata[' Income '].plot(kind='hist',bins=500)\n",
    "\n",
    "\n"
   ]
  },
  {
   "cell_type": "code",
   "execution_count": 183,
   "metadata": {},
   "outputs": [],
   "source": [
    "income_threshold = mdata[' Income '].quantile(0.99)"
   ]
  },
  {
   "cell_type": "code",
   "execution_count": 184,
   "metadata": {},
   "outputs": [
    {
     "name": "stdout",
     "output_type": "stream",
     "text": [
      "94458.79999999999\n"
     ]
    }
   ],
   "source": [
    "print(income_threshold)"
   ]
  },
  {
   "cell_type": "code",
   "execution_count": 185,
   "metadata": {},
   "outputs": [],
   "source": [
    "# Full dataset analysis\n",
    "full_dataset_metrics = mdata.groupby('Country')[' Income '].sum()\n"
   ]
  },
  {
   "cell_type": "code",
   "execution_count": 186,
   "metadata": {},
   "outputs": [
    {
     "name": "stdout",
     "output_type": "stream",
     "text": [
      "Country\n",
      "AUS     7615230.0\n",
      "CA     14111464.0\n",
      "GER     6142327.0\n",
      "IND     7205413.0\n",
      "ME       173041.0\n",
      "SA     18477985.0\n",
      "SP     56360083.0\n",
      "US      5694366.0\n",
      "Name:  Income , dtype: float64\n"
     ]
    }
   ],
   "source": [
    "print(full_dataset_metrics)"
   ]
  },
  {
   "cell_type": "code",
   "execution_count": null,
   "metadata": {},
   "outputs": [],
   "source": []
  }
 ],
 "metadata": {
  "kernelspec": {
   "display_name": "base",
   "language": "python",
   "name": "python3"
  },
  "language_info": {
   "codemirror_mode": {
    "name": "ipython",
    "version": 3
   },
   "file_extension": ".py",
   "mimetype": "text/x-python",
   "name": "python",
   "nbconvert_exporter": "python",
   "pygments_lexer": "ipython3",
   "version": "3.11.7"
  }
 },
 "nbformat": 4,
 "nbformat_minor": 2
}
